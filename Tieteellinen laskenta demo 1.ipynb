{
 "cells": [
  {
   "cell_type": "markdown",
   "id": "43d91ae0-45ee-498f-a334-a7832d4e7d87",
   "metadata": {},
   "source": [
    "# Tieteellinen laskenta, 28.10.22, Demot 1\n",
    "Johannes Rajala\n"
   ]
  },
  {
   "cell_type": "markdown",
   "id": "ee6fa3b1-1fd2-4d36-95b3-ef83d22dd3c3",
   "metadata": {},
   "source": [
    "### Tehtävä 1"
   ]
  },
  {
   "cell_type": "code",
   "execution_count": 142,
   "id": "e3b2a3b7-838e-4005-8932-772439eea88d",
   "metadata": {},
   "outputs": [],
   "source": [
    "import numpy as np\n",
    "import cmath as cm\n",
    "from math import pi, cos, sin\n",
    "from random import random\n",
    "import matplotlib.pyplot as plt\n",
    "import scipy"
   ]
  },
  {
   "cell_type": "code",
   "execution_count": 23,
   "id": "0562105a-ba59-4876-9de4-fc38d0dadca2",
   "metadata": {},
   "outputs": [
    {
     "name": "stdout",
     "output_type": "stream",
     "text": [
      "n x(n) Error\n",
      "0 2.0 0.2679491924311228\n",
      "1 1.75 0.017949192431122807\n",
      "2 1.7321428571428572 9.204957398001312e-05\n",
      "3 1.7320508100147274 2.44585018904786e-09\n",
      "4 1.7320508075688772 0.0\n",
      "5 1.7320508075688772 0.0\n"
     ]
    }
   ],
   "source": [
    "n = 6 # iteraariot\n",
    "x = 1 # aluestetaan x\n",
    "a = 3 # laskettava neliöjuuri\n",
    "a_true = np.sqrt(3) # neliöjuuren todellinen arvo\n",
    "error = 0 # alustetaan virhe\n",
    "\n",
    "print(\"n\", \"x(n)\", \"Error\")\n",
    "for i in range(n): \n",
    "    x = 1/2*(x+ a/x)\n",
    "    error = np.abs(x-a_true)\n",
    "    print(i, x, error)"
   ]
  },
  {
   "cell_type": "markdown",
   "id": "3013b1da-04ea-4f37-926c-1d4b9c38c7fb",
   "metadata": {},
   "source": [
    "### Tehtävä 2"
   ]
  },
  {
   "cell_type": "code",
   "execution_count": 25,
   "id": "b37e5a79-4590-4145-8779-869614d2f6bf",
   "metadata": {},
   "outputs": [
    {
     "name": "stdout",
     "output_type": "stream",
     "text": [
      "n x(n) Error\n",
      "0 3.1333333411010846 0.008259312488708481\n",
      "1 3.1414224741902177 0.00017017939957542083\n",
      "2 3.141587398114333 5.255475460153036e-06\n",
      "3 3.141592465335187 1.8825460612603706e-07\n",
      "4 3.141592653228088 3.617053323523578e-10\n",
      "5 3.141592660995839 7.406045998692434e-09\n"
     ]
    }
   ],
   "source": [
    "n = 6 # iteraariot\n",
    "pi = np.pi # piin todellinen arvo\n",
    "error = 0 # alustetaan virhe\n",
    "\n",
    "print(\"n\", \"x(n)\", \"Error\")\n",
    "for i in range(n): \n",
    "    x = x + 1/16**i* (4/(8*i+1) - 2/(8*i+4) - 1/(8*i+5) - 1/(8*i+6))\n",
    "    error = np.abs(x-pi)\n",
    "    print(i, x, error)"
   ]
  },
  {
   "cell_type": "markdown",
   "id": "4fd5ff68-c173-40f2-b57e-ed00889a2a3b",
   "metadata": {},
   "source": [
    "### Tehtävä 3"
   ]
  },
  {
   "cell_type": "code",
   "execution_count": 27,
   "id": "323bc74d-0e3b-4339-9d24-4dc6574e679a",
   "metadata": {},
   "outputs": [],
   "source": [
    "def keskipiste(a,b,c):\n",
    "    u = (b-c)*np.abs(a)**2 + (c-a)*np.abs(b)**2 + (a-b)*np.abs(c)**2\n",
    "    v = (b-c)*np.conj(a)**2 + (c-a)*np.conj(b)**2 + (a-b)*np.conj(c)**2\n",
    "    return(u/v)"
   ]
  },
  {
   "cell_type": "code",
   "execution_count": 46,
   "id": "bc05675e-f306-4655-9173-f4dfad865197",
   "metadata": {},
   "outputs": [
    {
     "data": {
      "text/plain": [
       "0j"
      ]
     },
     "execution_count": 46,
     "metadata": {},
     "output_type": "execute_result"
    }
   ],
   "source": [
    "# Valitaan 3 pistettä kompleksitasosta\n",
    "a = complex(1,0)\n",
    "b = complex(0,1)\n",
    "c = complex(-1,0)\n",
    "\n",
    "keskipiste(a,b,c)"
   ]
  },
  {
   "cell_type": "code",
   "execution_count": 53,
   "id": "ca818b97-c403-4408-bfbd-97cd2394af2d",
   "metadata": {},
   "outputs": [
    {
     "data": {
      "text/plain": [
       "(-0-0j)"
      ]
     },
     "execution_count": 53,
     "metadata": {},
     "output_type": "execute_result"
    }
   ],
   "source": [
    "# Valitaan satunnaisesti 3 pistettä kompleksitasosta\n",
    "# generoidaan [0,1) tasajakautunut luku, ja lasektaan sen avulla yksikköympyrästä sille vastinpari ympyrän kaavan X^2 + Y^2 = R^2 mukaan.\n",
    "\n",
    "x = np.random.rand() \n",
    "a = complex(x,np.sqrt(1-x**2))\n",
    "\n",
    "y = np.random.rand()\n",
    "b = complex(y,np.sqrt(1-y**2))\n",
    "\n",
    "z = np.random.rand()\n",
    "c = complex(z,np.sqrt(1-z**2))\n",
    "\n",
    "keskipiste(a,b,c)"
   ]
  },
  {
   "cell_type": "markdown",
   "id": "79cb2eb5-9baf-413f-815a-9f37d1ef0809",
   "metadata": {},
   "source": [
    "Keskipiste on (0,0) pyöristysvirheitten rajoissa. Väite näyttää pitävän paikkansa."
   ]
  },
  {
   "cell_type": "markdown",
   "id": "d882ff20-ab24-4a3f-94ad-2caf8c07928d",
   "metadata": {},
   "source": [
    "### Tehtävä 4\n",
    "#### Kolmio:\n",
    "##### a)"
   ]
  },
  {
   "cell_type": "markdown",
   "id": "83bc2581-8a02-448b-bc47-712f2b458f0e",
   "metadata": {},
   "source": [
    "Olkoon:  <br>(x_0, y_0) = (0,0), <br>\n",
    "        (x_1, y_1) = (2,0), <br>\n",
    "        (x_2, y_2) = (1,1), ja <br>\n",
    "        (x_3, y_3) = (0,0), sillä (x_0, y_0) = (x_n, y_n) <br>\n",
    "        <br>\n",
    "Nyt pinta-ala kaavalla, 1/2 * (kanta\\*korkeus):<br>\n",
    "    1/2 * (2*1) = 1\n",
    " "
   ]
  },
  {
   "cell_type": "markdown",
   "id": "f5eda8b7-33a0-4ebc-9f80-88e40ec2bd93",
   "metadata": {},
   "source": [
    "##### b)"
   ]
  },
  {
   "cell_type": "code",
   "execution_count": 96,
   "id": "d56f1841-b59f-40ce-b5c4-1e24fc99c931",
   "metadata": {},
   "outputs": [],
   "source": [
    "x_0 = (0,0)\n",
    "x_1 = (2,0)\n",
    "x_2 = (1,1)\n",
    "x_3 = (0,0)\n",
    "\n",
    "pisteet = [x_0, x_1, x_2, x_3]\n",
    "\n",
    "def pinta_ala(pisteet, tarkka):\n",
    "    area = 0\n",
    "    for i in range (len(pisteet)-1):\n",
    "        area = area + 1/2*(pisteet[i][0]*pisteet[i+1][1] - pisteet[i+1][0]*pisteet[i][1])\n",
    "    return(\"Estimaatti:\", area, \"Virhe:\", np.abs(area-tarkka))  "
   ]
  },
  {
   "cell_type": "code",
   "execution_count": 97,
   "id": "ed6df1a8-f9e7-4919-8a3f-d9b6a90dc442",
   "metadata": {},
   "outputs": [
    {
     "data": {
      "text/plain": [
       "('Estimaatti:', 1.0, 'Virhe:', 0.0)"
      ]
     },
     "execution_count": 97,
     "metadata": {},
     "output_type": "execute_result"
    }
   ],
   "source": [
    "pinta_ala(pisteet, 1)"
   ]
  },
  {
   "cell_type": "markdown",
   "id": "d1abc3e9-2e9a-48f3-8a36-c7061feedc5e",
   "metadata": {},
   "source": [
    "##### c)"
   ]
  },
  {
   "cell_type": "code",
   "execution_count": 93,
   "id": "cfdc1350-c3d6-41ef-b7cf-5ada9cf547cf",
   "metadata": {},
   "outputs": [
    {
     "data": {
      "text/plain": [
       "[<matplotlib.lines.Line2D at 0x1d4feca0250>]"
      ]
     },
     "execution_count": 93,
     "metadata": {},
     "output_type": "execute_result"
    },
    {
     "data": {
      "image/png": "[encoded data removed]",
      "text/plain": [
       "<Figure size 640x480 with 1 Axes>"
      ]
     },
     "metadata": {},
     "output_type": "display_data"
    }
   ],
   "source": [
    "x = [0,2,1,0]\n",
    "y = [0,0,1,0]\n",
    "plt.plot(x,y)"
   ]
  },
  {
   "cell_type": "markdown",
   "id": "cd846679-5ef7-4ef1-b613-9050818c661a",
   "metadata": {},
   "source": [
    "#### Neliö:\n",
    "##### a)"
   ]
  },
  {
   "cell_type": "markdown",
   "id": "0b2823dc-63e4-4f1d-bfb8-dbea3bd384de",
   "metadata": {},
   "source": [
    "Olkoon:  <br>(x_0, y_0) = (0,0), <br>\n",
    "        (x_1, y_1) = (1,0), <br>\n",
    "        (x_2, y_2) = (1,1), <br>\n",
    "        (x_3, y_3) = (0,1), ja <br>\n",
    "        (x_4, y_4) = (0,0), sillä (x_0, y_0) = (x_n, y_n) <br>\n",
    "        <br>\n",
    "Nyt pinta-ala kaavalla,  (kanta\\*korkeus):<br>\n",
    "        (1*1) = 1\n",
    " "
   ]
  },
  {
   "cell_type": "markdown",
   "id": "fd213318-d993-4d50-850d-54cc81dfb7fb",
   "metadata": {},
   "source": [
    "#### b)"
   ]
  },
  {
   "cell_type": "code",
   "execution_count": 98,
   "id": "b8c2c53d-28ba-4058-8136-97b4a840646e",
   "metadata": {},
   "outputs": [
    {
     "data": {
      "text/plain": [
       "('Estimaatti:', 1.0, 'Virhe:', 0.0)"
      ]
     },
     "execution_count": 98,
     "metadata": {},
     "output_type": "execute_result"
    }
   ],
   "source": [
    "x_0 = (0,0)\n",
    "x_1 = (1,0)\n",
    "x_2 = (1,1)\n",
    "x_3 = (0,1)\n",
    "x_4 = (0,0)\n",
    "\n",
    "pisteet = [x_0, x_1, x_2, x_3, x_4]\n",
    "\n",
    "pinta_ala(pisteet, 1)"
   ]
  },
  {
   "cell_type": "markdown",
   "id": "329783e0-c927-4e01-a4b9-22b19fa9fdfc",
   "metadata": {},
   "source": [
    "##### c)"
   ]
  },
  {
   "cell_type": "code",
   "execution_count": 99,
   "id": "e0f82efb-c2ad-4ae1-95ed-6cff3f7f4688",
   "metadata": {},
   "outputs": [
    {
     "data": {
      "text/plain": [
       "[<matplotlib.lines.Line2D at 0x1d4fed104f0>]"
      ]
     },
     "execution_count": 99,
     "metadata": {},
     "output_type": "execute_result"
    },
    {
     "data": {
      "image/png": "[encoded data removed]",
      "text/plain": [
       "<Figure size 640x480 with 1 Axes>"
      ]
     },
     "metadata": {},
     "output_type": "display_data"
    }
   ],
   "source": [
    "x = [0,1,1,0,0]\n",
    "y = [0,0,1,1,0]\n",
    "plt.plot(x,y)"
   ]
  },
  {
   "cell_type": "markdown",
   "id": "a766c85b-40e5-45ee-b8cf-21dfb0facd14",
   "metadata": {},
   "source": [
    "#### Kuusikulmio:\n",
    "##### a)"
   ]
  },
  {
   "cell_type": "markdown",
   "id": "ad5beb60-6cac-4c25-8940-220d7e84c402",
   "metadata": {},
   "source": [
    "Olkoon:  <br>a:(x_0, y_0) = (1,0), <br>\n",
    "        b:(x_1, y_1) = (1/2, np.sqrt(3)/2), <br>\n",
    "        c:(x_2, y_2) = (-1/2,np.sqrt(3)/2), <br>\n",
    "        d:(x_3, y_3) = (-1,0),<br>\n",
    "        e:(x_4, y_4) = (-1/2,-np.sqrt(3)/2), <br>\n",
    "        f:(x_5, y_5) = (1/2,-np.sqrt(3)/2), ja <br>\n",
    "        g:(x_6, y_6) = (1,0), sillä (x_0, y_0) = (x_n, y_n) <br>\n",
    "        <br>\n",
    "Nyt pinta-ala kaavalla,  (2*np.sqrt(3)*r^2), missä r = 1/2\\*d(a,d): <br>\n",
    "        2\\*sqrt(3)\\*(1)^2 = 2\\*sqrt(3)\n",
    " "
   ]
  },
  {
   "cell_type": "markdown",
   "id": "08bc6e09-5700-42f9-bcf5-3d8d8da2d071",
   "metadata": {},
   "source": [
    "##### b)"
   ]
  },
  {
   "cell_type": "code",
   "execution_count": 110,
   "id": "e346d302-1a36-4935-ba35-5180ae513a31",
   "metadata": {},
   "outputs": [
    {
     "data": {
      "text/plain": [
       "('Estimaatti:', 2.5980762113533156, 'Virhe:', 0.8660254037844388)"
      ]
     },
     "execution_count": 110,
     "metadata": {},
     "output_type": "execute_result"
    }
   ],
   "source": [
    "x_0 = (1,0)\n",
    "x_1 = (1/2, np.sqrt(3)/2)\n",
    "x_2 = (-1/2,np.sqrt(3)/2)\n",
    "x_3 = (-1,0)\n",
    "x_4 = (-1/2,-np.sqrt(3)/2)\n",
    "x_5 = (1/2,-np.sqrt(3)/2)\n",
    "x_6 = (1,0)\n",
    "\n",
    "\n",
    "pisteet = [x_0, x_1, x_2, x_3, x_4, x_5, x_6]\n",
    "\n",
    "pinta_ala(pisteet, (2*np.sqrt(3)))"
   ]
  },
  {
   "cell_type": "code",
   "execution_count": 109,
   "id": "320cd14d-9f1a-4846-b04d-c5897a77cf7d",
   "metadata": {},
   "outputs": [
    {
     "data": {
      "text/plain": [
       "[<matplotlib.lines.Line2D at 0x1d4fee68ca0>]"
      ]
     },
     "execution_count": 109,
     "metadata": {},
     "output_type": "execute_result"
    },
    {
     "data": {
      "image/png": "[encoded data removed]",
      "text/plain": [
       "<Figure size 640x480 with 1 Axes>"
      ]
     },
     "metadata": {},
     "output_type": "display_data"
    }
   ],
   "source": [
    "x=[]\n",
    "y=[]\n",
    "for piste in pisteet:\n",
    "    x.append(piste[0])\n",
    "    y.append(piste[1])\n",
    "\n",
    "plt.plot(x,y)"
   ]
  },
  {
   "cell_type": "markdown",
   "id": "2cbeb2bf-43cb-4e19-a4dc-df489098b7fd",
   "metadata": {},
   "source": [
    "### Tehtävä 5"
   ]
  },
  {
   "cell_type": "code",
   "execution_count": 137,
   "id": "e0fe48bf-9bd1-4bbc-bbbb-956c0b37d80d",
   "metadata": {},
   "outputs": [],
   "source": [
    "# Generoi nollaan suppenevia satunnaislukuja\n",
    "def a_m(m): \n",
    "    return(np.random.rand()/(m+1))\n",
    "\n",
    "# Laskee vasemman puolen epäyhtälöstä\n",
    "def laske_pienempi():\n",
    "    summa = 0\n",
    "    for i in range(10000):\n",
    "        a = a_m(i)\n",
    "        for j in range(1000):\n",
    "            summa = summa + a*a_m(j)/(i+j+1)\n",
    "    return summa\n",
    "\n",
    "# Laskee oikean puolen epäyhtälöstä\n",
    "def laske_suurempi():\n",
    "    eka_summa = 0\n",
    "    toka_summa = 0\n",
    "    for i in range(10000):\n",
    "        eka_summa = eka_summa + a_m(i)**2\n",
    "    for j in range(10000):\n",
    "        toka_summa = toka_summa + a_m(j)**2\n",
    "    return(np.pi*np.sqrt(eka_summa*toka_summa))\n",
    "        \n"
   ]
  },
  {
   "cell_type": "code",
   "execution_count": 138,
   "id": "d85e0e92-8d48-4569-a135-bfe3a0dd1b14",
   "metadata": {},
   "outputs": [
    {
     "name": "stdout",
     "output_type": "stream",
     "text": [
      "Tarkkuus kun 5 testausta: 1.0\n"
     ]
    }
   ],
   "source": [
    "# Tehdään 5 testausta\n",
    "maara_oikein = []\n",
    "n = 5\n",
    "for i in range(n):\n",
    "    if(laske_pienempi() <= laske_suurempi()):\n",
    "        maara_oikein.append(1)\n",
    "    else:\n",
    "        maara_oikein.append(0)\n",
    "print(\"Tarkkuus kun\", n, \"testausta:\", np.mean(maara_oikein))"
   ]
  },
  {
   "cell_type": "markdown",
   "id": "00cce730-f4d8-4125-ba08-53afb3ef638d",
   "metadata": {},
   "source": [
    "### Tehtävä 6"
   ]
  },
  {
   "cell_type": "code",
   "execution_count": 154,
   "id": "fd858965-cd3e-45fe-9a79-161696397536",
   "metadata": {},
   "outputs": [
    {
     "name": "stdout",
     "output_type": "stream",
     "text": [
      "Estimaatti: 0.38550742969192514 Virhe: 1.6653345369377348e-16\n",
      "Estimaatti: 0.1336904058506838 Virhe: 0.0\n",
      "Estimaatti: 0.12206992675429795 Virhe: 1.3877787807814457e-17\n"
     ]
    }
   ],
   "source": [
    "for i in range(3):\n",
    "    a = 2*np.random.rand()\n",
    "    b = 3*(a+1)\n",
    "    f = lambda x: (a*np.sin(b*x))\n",
    "    v = scipy.integrate.quad(f,0,1)\n",
    "    exact = (a/b)*(1-np.cos(b))\n",
    "    print(\"Estimaatti:\", v[0], \"Virhe:\", np.abs(v[0]-exact))\n"
   ]
  },
  {
   "cell_type": "markdown",
   "id": "79e6cf6f-ace5-46e6-b48d-2120ee5d0acc",
   "metadata": {},
   "source": [
    "Funktio laskee funktion a\\*sin(b*x) integraalin välillä 0,1"
   ]
  },
  {
   "cell_type": "code",
   "execution_count": 156,
   "id": "95d4ae90-1356-4f59-a435-cf7636127b75",
   "metadata": {},
   "outputs": [
    {
     "name": "stdout",
     "output_type": "stream",
     "text": [
      "Estimaatti: 0.25 Virhe: 0.0\n"
     ]
    }
   ],
   "source": [
    "for i in range(1):\n",
    "    f = lambda x: (x**3)\n",
    "    v = scipy.integrate.quad(f,0,1)\n",
    "    exact = 0.25\n",
    "    print(\"Estimaatti:\", v[0], \"Virhe:\", np.abs(v[0]-exact))"
   ]
  },
  {
   "cell_type": "markdown",
   "id": "047a348b-58e3-43c4-9684-c0134d8c5716",
   "metadata": {},
   "source": [
    "Saattaa olla, että python quad paketti ei täysin vastaa matlabissa käytettyä integrointimenetelmältää."
   ]
  }
 ],
 "metadata": {
  "kernelspec": {
   "display_name": "Python 3 (ipykernel)",
   "language": "python",
   "name": "python3"
  },
  "language_info": {
   "codemirror_mode": {
    "name": "ipython",
    "version": 3
   },
   "file_extension": ".py",
   "mimetype": "text/x-python",
   "name": "python",
   "nbconvert_exporter": "python",
   "pygments_lexer": "ipython3",
   "version": "3.9.13"
  }
 },
 "nbformat": 4,
 "nbformat_minor": 5
}
