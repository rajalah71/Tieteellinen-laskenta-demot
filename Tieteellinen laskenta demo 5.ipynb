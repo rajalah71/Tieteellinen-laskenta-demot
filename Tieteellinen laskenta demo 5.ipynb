{
 "cells": [
  {
   "cell_type": "markdown",
   "id": "43d91ae0-45ee-498f-a334-a7832d4e7d87",
   "metadata": {},
   "source": [
    "# Tieteellinen laskenta, 25.11.22, Demot 5\n",
    "Johannes Rajala\n"
   ]
  },
  {
   "cell_type": "code",
   "execution_count": 3,
   "id": "e3b2a3b7-838e-4005-8932-772439eea88d",
   "metadata": {},
   "outputs": [],
   "source": [
    "import numpy as np\n",
    "import cmath as cm\n",
    "import math\n",
    "import random\n",
    "import matplotlib.pyplot as plt\n",
    "import scipy"
   ]
  },
  {
   "cell_type": "markdown",
   "id": "ee6fa3b1-1fd2-4d36-95b3-ef83d22dd3c3",
   "metadata": {},
   "source": [
    "### Tehtävä 1\n",
    "#### a)"
   ]
  },
  {
   "cell_type": "markdown",
   "id": "0b2fb07d-b6bd-4c2a-ad4f-0d1785cfa10b",
   "metadata": {},
   "source": [
    "Näyttää normaalijakaumalta."
   ]
  },
  {
   "cell_type": "markdown",
   "id": "a8d6c5f4-57ce-4ab6-a9d1-c5ba2df57037",
   "metadata": {},
   "source": [
    "#### b)"
   ]
  },
  {
   "cell_type": "code",
   "execution_count": 38,
   "id": "f219880f-9a00-48f3-960a-cc2e7e581ecc",
   "metadata": {},
   "outputs": [],
   "source": [
    "def integral(x1, x2, a, b):\n",
    "    integral = scipy.integrate.quad(lambda x: np.exp(-(x-b)**2/(2*a**2)), x1, x2) # Integroidaan funktio välillä [x1, x2]\n",
    "    return [integral[0] - integral[1], integral[0] + integral[1]] # palautetaan integraalin luottamusväli"
   ]
  },
  {
   "cell_type": "code",
   "execution_count": 25,
   "id": "2570ee56-90c1-47ea-9af5-853a083235f3",
   "metadata": {},
   "outputs": [],
   "source": [
    "def erf_(x1, x2, a, b):\n",
    "    erf1 = math.erf((x2-b)/(a*np.sqrt(2)))\n",
    "    erf2 = math.erf((x1-b)/(a*np.sqrt(2)))\n",
    "    return a*np.sqrt(np.pi / 2) * (erf1 - erf2)"
   ]
  },
  {
   "cell_type": "markdown",
   "id": "5a81b298-2043-4037-9e6a-f3acf7bbd06b",
   "metadata": {},
   "source": [
    "Luodaan 1000 satunnaislukua a, b, x1, x2 ja tarkastetaan väite niille:"
   ]
  },
  {
   "cell_type": "code",
   "execution_count": 42,
   "id": "1033fd35-6a46-4519-b1bf-a7b4036ead99",
   "metadata": {},
   "outputs": [
    {
     "name": "stdout",
     "output_type": "stream",
     "text": [
      "1.0\n"
     ]
    }
   ],
   "source": [
    "for i in range(1000):\n",
    "    a = random.uniform(-10,10)\n",
    "    b = random.uniform(-10,10)\n",
    "    x1 = random.uniform(-10,10)\n",
    "    x2 = random.uniform(11,20)\n",
    "    success = []\n",
    "    if((erf_(x1, x2, a, b) > integral(x1, x2, a, b)[0]) and (erf_(x1, x2, a, b) < integral(x1, x2, a, b)[1])): # tarkistetaan onko luku luottamusvälissä\n",
    "        success.append(1)\n",
    "    else:\n",
    "        success.append(0)\n",
    "    \n",
    "print(np.mean(success))\n",
    "    "
   ]
  },
  {
   "cell_type": "markdown",
   "id": "3013b1da-04ea-4f37-926c-1d4b9c38c7fb",
   "metadata": {},
   "source": [
    "### Tehtävä 2\n",
    "#### a)"
   ]
  },
  {
   "cell_type": "code",
   "execution_count": 9,
   "id": "b3b8fb83-5564-4abe-a4a6-e3b4bd95025a",
   "metadata": {},
   "outputs": [],
   "source": [
    "def integrand(x,y):\n",
    "    return np.sin(2*x)*np.cos(4*y) # Integroitava funktio\n",
    "\n",
    "def testi_integrand(x,y):\n",
    "    return x*y # Toinen integroitava funktio"
   ]
  },
  {
   "cell_type": "code",
   "execution_count": 42,
   "id": "f4232cb7-1900-4227-b2f5-4b58c82d658a",
   "metadata": {},
   "outputs": [
    {
     "name": "stdout",
     "output_type": "stream",
     "text": [
      "Trigonometristen funktioitten integraali: (-0.13229279494049195, 5.625535561578141e-15)\n",
      "Testifunktion xy integraali: (11.25, 1.4977162417837494e-13)\n"
     ]
    }
   ],
   "source": [
    "def riemann(integrand, a,b,c,d):\n",
    "    print(f\"Trigonometristen funktioitten integraali: {scipy.integrate.dblquad(integrand, a, b, c, d)}\")\n",
    "    print(f\"Testifunktion xy integraali: {scipy.integrate.dblquad(lambda x,y: x*y, a, b, c, d)}\")\n",
    "    \n",
    "riemann(integrand, 2,3,4,5)"
   ]
  },
  {
   "cell_type": "code",
   "execution_count": 47,
   "id": "94ee7d19-b22b-4e44-9d27-e6869d12b928",
   "metadata": {},
   "outputs": [],
   "source": [
    "def simpson(integrand, a,b,c,d):\n",
    "    pisteet = []\n",
    "    n= 1001\n",
    "\n",
    "    for x in np.linspace(a,b,n):\n",
    "        piste_rivi = []\n",
    "        for y in np.linspace(c,d,n):\n",
    "            piste_rivi.append(integrand(x,y))\n",
    "        pisteet.append(piste_rivi)\n",
    "\n",
    "    summ = 0\n",
    "    for pisterivi in pisteet:\n",
    "        summ = summ + scipy.integrate.simpson(pisterivi)\n",
    "    print(f\"Trigonometristen funktioitten integraali: {summ/(n*n)}\")"
   ]
  },
  {
   "cell_type": "code",
   "execution_count": 48,
   "id": "5bcb31cf-688d-4bff-976b-b4fe626b8db6",
   "metadata": {},
   "outputs": [
    {
     "name": "stdout",
     "output_type": "stream",
     "text": [
      "Trigonometristen funktioitten integraali: -0.24191465549812916\n"
     ]
    }
   ],
   "source": [
    "simpson(integrand, 2,3,4,5)"
   ]
  },
  {
   "cell_type": "markdown",
   "id": "4fd5ff68-c173-40f2-b57e-ed00889a2a3b",
   "metadata": {},
   "source": [
    "### Tehtävä 3"
   ]
  },
  {
   "cell_type": "code",
   "execution_count": 155,
   "id": "e19b4055-e7c5-4fda-9ea2-a67ff008bba4",
   "metadata": {},
   "outputs": [],
   "source": [
    "def generate_points(n):\n",
    "    list_ = [] # Tyhjä lista johon onnistuneet pistepari generoinnit lisätään\n",
    "    failed = [] # Mielenkiinnosta, mikä osuus generoinnista onnistuu\n",
    "    while(len(list_) < 1001): # tehdään n paria\n",
    "        x = random.uniform(-1,1) # generoidaan [-1,1] tasajakaumasta X koordinaatti  \n",
    "        y = random.uniform(-1,1) # generoidaan [-1,1] tasajakaumasta Y koordinaatti  \n",
    "        if(x**2+y**2<1):\n",
    "            list_.append((x,y)) # Jos pistepari on yksikköympyrässä, se lisätään listaan \n",
    "        else:\n",
    "            failed.append(1) # Jos pistepari ei ole yksikköympyrässä, lisätään epäonnistuneiden listaan 1\n",
    "            \n",
    "    return list_ # palautetaan lista onnistuneista pareista"
   ]
  },
  {
   "cell_type": "code",
   "execution_count": 157,
   "id": "078c965c-ed02-4e27-b69c-60a5e23c2862",
   "metadata": {},
   "outputs": [],
   "source": [
    "def calculate_distance(points):\n",
    "    distances = [] # pisteparien etäisyyslista\n",
    "    for pair in points: # iteroidaan pisteparien yli\n",
    "        distance = np.sqrt( pair[0]**2 + pair[1]**2 ) # lasketaan pisteiden eukliidinen etäisyys nollasta.\n",
    "        distances.append(distance)  # lisätään pisteparien etäisyys nollasta listaan\n",
    "    \n",
    "    return np.mean(distances) # palautetaan etäisyyksien keskiarvo"
   ]
  },
  {
   "cell_type": "code",
   "execution_count": 158,
   "id": "f0b0bd0f-0c8e-4b55-9a94-b44325a776c7",
   "metadata": {},
   "outputs": [
    {
     "name": "stdout",
     "output_type": "stream",
     "text": [
      "Kun n=1000, niin keskietäisyys on: 0.6541557032750632.\n",
      "Kun n=1000, niin keskietäisyys on: 0.6736356800818987.\n",
      "Kun n=30000, niin keskietäisyys on: 0.6616868003545919.\n"
     ]
    }
   ],
   "source": [
    "for n in [1000, 1000, 30000]:\n",
    "    print(f\"Kun n={n}, niin keskietäisyys on: {calculate_distance(generate_points(n))}.\")"
   ]
  },
  {
   "cell_type": "markdown",
   "id": "d882ff20-ab24-4a3f-94ad-2caf8c07928d",
   "metadata": {},
   "source": [
    "### Tehtävä 4"
   ]
  },
  {
   "cell_type": "code",
   "execution_count": 140,
   "id": "9d1950b2-a204-46a0-9830-d74a35324cd1",
   "metadata": {},
   "outputs": [],
   "source": [
    "def generate_random_matrix(n,a,b): # funktio joka generoi n*n ei-singulaarisen matriisin, jonka alkiot ovat generoitu [a,b] tasajakaumasta\n",
    "    A = []\n",
    "    for i in range(n):\n",
    "        A.append([random.uniform(a,b) for i in range(n)]) # Luodaan matriisi rivi kerrallaan\n",
    "    if(np.linalg.det(A)==0):\n",
    "        raise Exception(\"Matriisin determinantti on 0\") # Ei singulaarisia matriiseja, sillä käänteismatriisia tarvitaan seuraavassa vaiheessa\n",
    "    return A"
   ]
  },
  {
   "cell_type": "code",
   "execution_count": 141,
   "id": "69da415b-05de-43d6-a0c2-2ce6ddb9efbb",
   "metadata": {},
   "outputs": [],
   "source": [
    "def solve_linear_system(A, b):\n",
    "    x = [] # Tyhjä lista, johon ratkaisut lisätään\n",
    "    A_t = np.transpose(A) # Matriisin A transpoosi\n",
    "    A_det_inv = 1/np.linalg.det(A) # Matriisin A determinantin käänteisluku\n",
    "    for j in range(len(A)): # Iteroidaan matriisin A transpoosin sarakkeiden yli\n",
    "        A_t_ = A_t.copy() # Alustetaan sykilin alussa väliaikaiken matriisi matriisin A avulla\n",
    "        A_t_[j] = b # Korvataan väliaikaisen matriisin sarake j vektorilla b\n",
    "        x.append(A_det_inv * np.linalg.det(A_t_)) # lasketaan determinantti, ja lisätään tulo listaan x\n",
    "    \n",
    "    return x"
   ]
  },
  {
   "cell_type": "code",
   "execution_count": 144,
   "id": "58a52042-d9fb-4e73-8763-25ee84d8a2da",
   "metadata": {},
   "outputs": [
    {
     "data": {
      "text/plain": [
       "array([1., 2., 3.])"
      ]
     },
     "execution_count": 144,
     "metadata": {},
     "output_type": "execute_result"
    }
   ],
   "source": [
    "# Visuaalinen tarkastelu\n",
    "n = 3\n",
    "b = [1,2,3] # Generodiaan n*1 vektori\n",
    "M = generate_random_matrix(n,-10,10) # Generoidaan n*n satunnaismatriisi\n",
    "\n",
    "np.matmul(M,solve_linear_system(M, b))"
   ]
  },
  {
   "cell_type": "code",
   "execution_count": 279,
   "id": "54380997-f707-45c1-874e-62985ef2ce7f",
   "metadata": {},
   "outputs": [],
   "source": [
    "# Ääriarvotarkastelu\n",
    "n = 180 \n",
    "b = [random.uniform(-10,10) for i in range(n)] # Generodiaan n*1 satunnaisvektori\n",
    "M = generate_random_matrix(n,-10,10) # Generoidaan n*n satunnaismatriisi"
   ]
  },
  {
   "cell_type": "code",
   "execution_count": 280,
   "id": "830a1400-7b90-4b39-ba00-c2a1e0c48fef",
   "metadata": {},
   "outputs": [
    {
     "name": "stdout",
     "output_type": "stream",
     "text": [
      "Tarkastus 180x180 matriisille 5:n desimaalin tarkkuudella: True\n"
     ]
    }
   ],
   "source": [
    "print(f\"Tarkastus {n}x{n} matriisille {int(np.exp(1/n + 1.5)+0.5)}:n desimaalin tarkkuudella: {[round(entry, int(np.exp(1/n + 1.5)+0.5)) for entry in np.matmul(M,solve_linear_system(M, b))] == [round(entry, int(np.exp(1/n + 1.5)+0.5)) for entry in b]}\") # Tarkistus"
   ]
  },
  {
   "cell_type": "markdown",
   "id": "2cbeb2bf-43cb-4e19-a4dc-df489098b7fd",
   "metadata": {},
   "source": [
    "### Tehtävä 5"
   ]
  },
  {
   "cell_type": "code",
   "execution_count": 154,
   "id": "807c65dc-c207-4dee-98e4-278234306eb0",
   "metadata": {},
   "outputs": [
    {
     "name": "stdout",
     "output_type": "stream",
     "text": [
      "Astian korkeus on 2.260188540949993 metriä.\n"
     ]
    }
   ],
   "source": [
    "h = (3000/1000) / (np.pi * (1.3/2)**2)\n",
    "print(f\"Astian korkeus on {h} metriä.\")"
   ]
  },
  {
   "cell_type": "code",
   "execution_count": 173,
   "id": "168c3ae4-79a1-4ffb-a8fe-b35ad122e72e",
   "metadata": {},
   "outputs": [],
   "source": [
    "def volume(V, r, x):\n",
    "    left = r**2 * np.arccos((r-x)/r)\n",
    "    right = (r-x)*np.sqrt(r**2 - (r-x)**2)\n",
    "    return (V/(np.pi*r**2)) * (left - right)"
   ]
  },
  {
   "cell_type": "code",
   "execution_count": 186,
   "id": "381edb0c-6a71-4c7b-8b75-77fd25396d7b",
   "metadata": {},
   "outputs": [
    {
     "name": "stdout",
     "output_type": "stream",
     "text": [
      "n   m      V\n",
      "1  0.0    0.0\n",
      "2  0.05    0.04\n",
      "3  0.1    0.11\n",
      "4  0.15    0.19\n",
      "5  0.2    0.29\n",
      "6  0.25    0.4\n",
      "7  0.3    0.52\n",
      "8  0.35    0.65\n",
      "9  0.4    0.78\n",
      "10  0.45    0.92\n",
      "11  0.5    1.06\n",
      "12  0.55    1.21\n",
      "13  0.6    1.35\n",
      "14  0.65    1.5\n"
     ]
    }
   ],
   "source": [
    "print(f\"n   m      V\")\n",
    "for n in range(1,15):\n",
    "    print(f\"{n}  {round((n-1)*0.05, 2)}    {round(volume(3, 0.65, ((n-1)*0.05)), 2)}\")"
   ]
  },
  {
   "cell_type": "code",
   "execution_count": 206,
   "id": "4ad60522-3408-4837-8899-b4d86874bd21",
   "metadata": {},
   "outputs": [
    {
     "name": "stdout",
     "output_type": "stream",
     "text": [
      "Säiliössä on 1000 litraa, kun öljynpinnan korkeus on: 0.478 metriä.\n"
     ]
    }
   ],
   "source": [
    "print(f\"Säiliössä on 1000 litraa, kun öljynpinnan korkeus on: {round(scipy.optimize.root(lambda x: volume(3,0.65, x) - 1, 0.5)['x'][0], 3)} metriä.\")"
   ]
  },
  {
   "cell_type": "markdown",
   "id": "00cce730-f4d8-4125-ba08-53afb3ef638d",
   "metadata": {},
   "source": [
    "### Tehtävä 6"
   ]
  },
  {
   "cell_type": "code",
   "execution_count": 267,
   "id": "8f6784b4-e641-4460-a9b7-58b2f49dc906",
   "metadata": {},
   "outputs": [],
   "source": [
    "def generate_roots(n):\n",
    "    coefficients = [random.uniform(0,10) for i in range(n+1)] # generoidaan n+1 satunnaislukua polynomin kertoimiksi\n",
    "    coefficients = sorted(coefficients, reverse = True) # Järjestetään ne pienenevään järjestykseen\n",
    "    polynomial = np.polynomial.polynomial.Polynomial(coefficients) # Muodostetaan näistä kertoimista polynomi\n",
    "    roots = polynomial.roots() # Etsitään polynomin juuret\n",
    "    x = [root.real for root in roots]\n",
    "    y = [root.imag for root in roots]\n",
    "    return(x,y)"
   ]
  },
  {
   "cell_type": "code",
   "execution_count": 275,
   "id": "bdaf014c-c137-4a8f-bba9-02dbf3dad39e",
   "metadata": {},
   "outputs": [
    {
     "data": {
      "text/plain": [
       "<matplotlib.collections.PathCollection at 0x20700f1f340>"
      ]
     },
     "execution_count": 275,
     "metadata": {},
     "output_type": "execute_result"
    },
    {
     "data": {
      "image/png": "[encoded data removed]",
      "text/plain": [
       "<Figure size 640x480 with 1 Axes>"
      ]
     },
     "metadata": {},
     "output_type": "display_data"
    }
   ],
   "source": [
    "data = generate_roots(100)\n",
    "plt.scatter(data[0], data[1])"
   ]
  }
 ],
 "metadata": {
  "kernelspec": {
   "display_name": "Python 3 (ipykernel)",
   "language": "python",
   "name": "python3"
  },
  "language_info": {
   "codemirror_mode": {
    "name": "ipython",
    "version": 3
   },
   "file_extension": ".py",
   "mimetype": "text/x-python",
   "name": "python",
   "nbconvert_exporter": "python",
   "pygments_lexer": "ipython3",
   "version": "3.9.13"
  }
 },
 "nbformat": 4,
 "nbformat_minor": 5
}
